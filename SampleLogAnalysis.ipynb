{
 "cells": [
  {
   "cell_type": "code",
   "execution_count": 1,
   "id": "6652aa64-e210-48bc-8e8e-421bab7965a5",
   "metadata": {},
   "outputs": [],
   "source": [
    "#import required libraries\n",
    "import re\n",
    "import logging\n",
    "import pandas as pd"
   ]
  },
  {
   "cell_type": "code",
   "execution_count": 2,
   "id": "83c78ad5-a239-4ebe-8fd4-6e24ac735dcb",
   "metadata": {},
   "outputs": [],
   "source": [
    "# copy data and made string og it\n",
    "sample=\"\"\"192.168.1.1 - - [03/Dec/2024:10:12:34 +0000] \"GET /home HTTP/1.1\" 200 512\n",
    "203.0.113.5 - - [03/Dec/2024:10:12:35 +0000] \"POST /login HTTP/1.1\" 401 128 \"Invalid credentials\"\n",
    "10.0.0.2 - - [03/Dec/2024:10:12:36 +0000] \"GET /about HTTP/1.1\" 200 256\n",
    "192.168.1.1 - - [03/Dec/2024:10:12:37 +0000] \"GET /contact HTTP/1.1\" 200 312\n",
    "198.51.100.23 - - [03/Dec/2024:10:12:38 +0000] \"POST /register HTTP/1.1\" 200 128\n",
    "203.0.113.5 - - [03/Dec/2024:10:12:39 +0000] \"POST /login HTTP/1.1\" 401 128 \"Invalid credentials\"\n",
    "192.168.1.100 - - [03/Dec/2024:10:12:40 +0000] \"POST /login HTTP/1.1\" 401 128 \"Invalid credentials\"\n",
    "10.0.0.2 - - [03/Dec/2024:10:12:41 +0000] \"GET /dashboard HTTP/1.1\" 200 1024\n",
    "198.51.100.23 - - [03/Dec/2024:10:12:42 +0000] \"GET /about HTTP/1.1\" 200 256\n",
    "192.168.1.1 - - [03/Dec/2024:10:12:43 +0000] \"GET /dashboard HTTP/1.1\" 200 1024\n",
    "203.0.113.5 - - [03/Dec/2024:10:12:44 +0000] \"POST /login HTTP/1.1\" 401 128 \"Invalid credentials\"\n",
    "203.0.113.5 - - [03/Dec/2024:10:12:45 +0000] \"POST /login HTTP/1.1\" 401 128 \"Invalid credentials\"\n",
    "192.168.1.100 - - [03/Dec/2024:10:12:46 +0000] \"POST /login HTTP/1.1\" 401 128 \"Invalid credentials\"\n",
    "10.0.0.2 - - [03/Dec/2024:10:12:47 +0000] \"GET /profile HTTP/1.1\" 200 768\n",
    "192.168.1.1 - - [03/Dec/2024:10:12:48 +0000] \"GET /home HTTP/1.1\" 200 512\n",
    "198.51.100.23 - - [03/Dec/2024:10:12:49 +0000] \"POST /feedback HTTP/1.1\" 200 128\n",
    "203.0.113.5 - - [03/Dec/2024:10:12:50 +0000] \"POST /login HTTP/1.1\" 401 128 \"Invalid credentials\"\n",
    "192.168.1.1 - - [03/Dec/2024:10:12:51 +0000] \"GET /home HTTP/1.1\" 200 512\n",
    "198.51.100.23 - - [03/Dec/2024:10:12:52 +0000] \"GET /about HTTP/1.1\" 200 256\n",
    "203.0.113.5 - - [03/Dec/2024:10:12:53 +0000] \"POST /login HTTP/1.1\" 401 128 \"Invalid credentials\"\n",
    "192.168.1.100 - - [03/Dec/2024:10:12:54 +0000] \"POST /login HTTP/1.1\" 401 128 \"Invalid credentials\"\n",
    "10.0.0.2 - - [03/Dec/2024:10:12:55 +0000] \"GET /contact HTTP/1.1\" 200 512\n",
    "198.51.100.23 - - [03/Dec/2024:10:12:56 +0000] \"GET /home HTTP/1.1\" 200 512\n",
    "192.168.1.100 - - [03/Dec/2024:10:12:57 +0000] \"POST /login HTTP/1.1\" 401 128 \"Invalid credentials\"\n",
    "203.0.113.5 - - [03/Dec/2024:10:12:58 +0000] \"POST /login HTTP/1.1\" 401 128 \"Invalid credentials\"\n",
    "10.0.0.2 - - [03/Dec/2024:10:12:59 +0000] \"GET /dashboard HTTP/1.1\" 200 1024\n",
    "192.168.1.1 - - [03/Dec/2024:10:13:00 +0000] \"GET /about HTTP/1.1\" 200 256\n",
    "198.51.100.23 - - [03/Dec/2024:10:13:01 +0000] \"POST /register HTTP/1.1\" 200 128\n",
    "203.0.113.5 - - [03/Dec/2024:10:13:02 +0000] \"POST /login HTTP/1.1\" 401 128 \"Invalid credentials\"\n",
    "192.168.1.100 - - [03/Dec/2024:10:13:03 +0000] \"POST /login HTTP/1.1\" 401 128 \"Invalid credentials\"\n",
    "10.0.0.2 - - [03/Dec/2024:10:13:04 +0000] \"GET /profile HTTP/1.1\" 200 768\n",
    "198.51.100.23 - - [03/Dec/2024:10:13:05 +0000] \"GET /about HTTP/1.1\" 200 256\n",
    "192.168.1.1 - - [03/Dec/2024:10:13:06 +0000] \"GET /home HTTP/1.1\" 200 512\n",
    "198.51.100.23 - - [03/Dec/2024:10:13:07 +0000] \"POST /feedback HTTP/1.1\" 200 128\"\"\""
   ]
  },
  {
   "cell_type": "code",
   "execution_count": 3,
   "id": "bcc37b07-ca8d-4af6-b2c5-132f06553c7d",
   "metadata": {},
   "outputs": [
    {
     "name": "stdout",
     "output_type": "stream",
     "text": [
      "Log data has been saved to sample_log.log\n"
     ]
    }
   ],
   "source": [
    "# Convert string(sample) into log file(sample.log)\n",
    "log_file_path = 'sample_log.log'\n",
    "with open(log_file_path, 'w') as file:\n",
    "    file.write(sample)\n",
    "\n",
    "print(f\"Log data has been saved to {log_file_path}\")"
   ]
  },
  {
   "cell_type": "code",
   "execution_count": 4,
   "id": "b6e42ded-0933-459c-99dc-36775a581b6b",
   "metadata": {},
   "outputs": [
    {
     "name": "stdout",
     "output_type": "stream",
     "text": [
      "192.168.1.1 - - [03/Dec/2024:10:12:34 +0000] \"GET /home HTTP/1.1\" 200 512\n",
      "203.0.113.5 - - [03/Dec/2024:10:12:35 +0000] \"POST /login HTTP/1.1\" 401 128 \"Invalid credentials\"\n",
      "10.0.0.2 - - [03/Dec/2024:10:12:36 +0000] \"GET /about HTTP/1.1\" 200 256\n",
      "192.168.1.1 - - [03/Dec/2024:10:12:37 +0000] \"GET /contact HTTP/1.1\" 200 312\n",
      "198.51.100.23 - - [03/Dec/2024:10:12:38 +0000] \"POST /register HTTP/1.1\" 200 128\n",
      "203.0.113.5 - - [03/Dec/2024:10:12:39 +0000] \"POST /login HTTP/1.1\" 401 128 \"Invalid credentials\"\n",
      "192.168.1.100 - - [03/Dec/2024:10:12:40 +0000] \"POST /login HTTP/1.1\" 401 128 \"Invalid credentials\"\n",
      "10.0.0.2 - - [03/Dec/2024:10:12:41 +0000] \"GET /dashboard HTTP/1.1\" 200 1024\n",
      "198.51.100.23 - - [03/Dec/2024:10:12:42 +0000] \"GET /about HTTP/1.1\" 200 256\n",
      "192.168.1.1 - - [03/Dec/2024:10:12:43 +0000] \"GET /dashboard HTTP/1.1\" 200 1024\n",
      "203.0.113.5 - - [03/Dec/2024:10:12:44 +0000] \"POST /login HTTP/1.1\" 401 128 \"Invalid credentials\"\n",
      "203.0.113.5 - - [03/Dec/2024:10:12:45 +0000] \"POST /login HTTP/1.1\" 401 128 \"Invalid credentials\"\n",
      "192.168.1.100 - - [03/Dec/2024:10:12:46 +0000] \"POST /login HTTP/1.1\" 401 128 \"Invalid credentials\"\n",
      "10.0.0.2 - - [03/Dec/2024:10:12:47 +0000] \"GET /profile HTTP/1.1\" 200 768\n",
      "192.168.1.1 - - [03/Dec/2024:10:12:48 +0000] \"GET /home HTTP/1.1\" 200 512\n",
      "198.51.100.23 - - [03/Dec/2024:10:12:49 +0000] \"POST /feedback HTTP/1.1\" 200 128\n",
      "203.0.113.5 - - [03/Dec/2024:10:12:50 +0000] \"POST /login HTTP/1.1\" 401 128 \"Invalid credentials\"\n",
      "192.168.1.1 - - [03/Dec/2024:10:12:51 +0000] \"GET /home HTTP/1.1\" 200 512\n",
      "198.51.100.23 - - [03/Dec/2024:10:12:52 +0000] \"GET /about HTTP/1.1\" 200 256\n",
      "203.0.113.5 - - [03/Dec/2024:10:12:53 +0000] \"POST /login HTTP/1.1\" 401 128 \"Invalid credentials\"\n",
      "192.168.1.100 - - [03/Dec/2024:10:12:54 +0000] \"POST /login HTTP/1.1\" 401 128 \"Invalid credentials\"\n",
      "10.0.0.2 - - [03/Dec/2024:10:12:55 +0000] \"GET /contact HTTP/1.1\" 200 512\n",
      "198.51.100.23 - - [03/Dec/2024:10:12:56 +0000] \"GET /home HTTP/1.1\" 200 512\n",
      "192.168.1.100 - - [03/Dec/2024:10:12:57 +0000] \"POST /login HTTP/1.1\" 401 128 \"Invalid credentials\"\n",
      "203.0.113.5 - - [03/Dec/2024:10:12:58 +0000] \"POST /login HTTP/1.1\" 401 128 \"Invalid credentials\"\n",
      "10.0.0.2 - - [03/Dec/2024:10:12:59 +0000] \"GET /dashboard HTTP/1.1\" 200 1024\n",
      "192.168.1.1 - - [03/Dec/2024:10:13:00 +0000] \"GET /about HTTP/1.1\" 200 256\n",
      "198.51.100.23 - - [03/Dec/2024:10:13:01 +0000] \"POST /register HTTP/1.1\" 200 128\n",
      "203.0.113.5 - - [03/Dec/2024:10:13:02 +0000] \"POST /login HTTP/1.1\" 401 128 \"Invalid credentials\"\n",
      "192.168.1.100 - - [03/Dec/2024:10:13:03 +0000] \"POST /login HTTP/1.1\" 401 128 \"Invalid credentials\"\n",
      "10.0.0.2 - - [03/Dec/2024:10:13:04 +0000] \"GET /profile HTTP/1.1\" 200 768\n",
      "198.51.100.23 - - [03/Dec/2024:10:13:05 +0000] \"GET /about HTTP/1.1\" 200 256\n",
      "192.168.1.1 - - [03/Dec/2024:10:13:06 +0000] \"GET /home HTTP/1.1\" 200 512\n",
      "198.51.100.23 - - [03/Dec/2024:10:13:07 +0000] \"POST /feedback HTTP/1.1\" 200 128\n"
     ]
    }
   ],
   "source": [
    "# Read the log file\n",
    "with open(log_file_path, 'r') as file:\n",
    "    for line in file:\n",
    "        print(line.strip()) "
   ]
  },
  {
   "cell_type": "code",
   "execution_count": 5,
   "id": "30f1ccca-2925-489a-9529-c641f1883716",
   "metadata": {},
   "outputs": [
    {
     "name": "stdout",
     "output_type": "stream",
     "text": [
      "               ip                   timestamp method    endpoint status  size  \\\n",
      "0     192.168.1.1  03/Dec/2024:10:12:34 +0000    GET       /home    200   512   \n",
      "1     203.0.113.5  03/Dec/2024:10:12:35 +0000   POST      /login    401   128   \n",
      "2        10.0.0.2  03/Dec/2024:10:12:36 +0000    GET      /about    200   256   \n",
      "3     192.168.1.1  03/Dec/2024:10:12:37 +0000    GET    /contact    200   312   \n",
      "4   198.51.100.23  03/Dec/2024:10:12:38 +0000   POST   /register    200   128   \n",
      "5     203.0.113.5  03/Dec/2024:10:12:39 +0000   POST      /login    401   128   \n",
      "6   192.168.1.100  03/Dec/2024:10:12:40 +0000   POST      /login    401   128   \n",
      "7        10.0.0.2  03/Dec/2024:10:12:41 +0000    GET  /dashboard    200  1024   \n",
      "8   198.51.100.23  03/Dec/2024:10:12:42 +0000    GET      /about    200   256   \n",
      "9     192.168.1.1  03/Dec/2024:10:12:43 +0000    GET  /dashboard    200  1024   \n",
      "10    203.0.113.5  03/Dec/2024:10:12:44 +0000   POST      /login    401   128   \n",
      "11    203.0.113.5  03/Dec/2024:10:12:45 +0000   POST      /login    401   128   \n",
      "12  192.168.1.100  03/Dec/2024:10:12:46 +0000   POST      /login    401   128   \n",
      "13       10.0.0.2  03/Dec/2024:10:12:47 +0000    GET    /profile    200   768   \n",
      "14    192.168.1.1  03/Dec/2024:10:12:48 +0000    GET       /home    200   512   \n",
      "15  198.51.100.23  03/Dec/2024:10:12:49 +0000   POST   /feedback    200   128   \n",
      "16    203.0.113.5  03/Dec/2024:10:12:50 +0000   POST      /login    401   128   \n",
      "17    192.168.1.1  03/Dec/2024:10:12:51 +0000    GET       /home    200   512   \n",
      "18  198.51.100.23  03/Dec/2024:10:12:52 +0000    GET      /about    200   256   \n",
      "19    203.0.113.5  03/Dec/2024:10:12:53 +0000   POST      /login    401   128   \n",
      "20  192.168.1.100  03/Dec/2024:10:12:54 +0000   POST      /login    401   128   \n",
      "21       10.0.0.2  03/Dec/2024:10:12:55 +0000    GET    /contact    200   512   \n",
      "22  198.51.100.23  03/Dec/2024:10:12:56 +0000    GET       /home    200   512   \n",
      "23  192.168.1.100  03/Dec/2024:10:12:57 +0000   POST      /login    401   128   \n",
      "24    203.0.113.5  03/Dec/2024:10:12:58 +0000   POST      /login    401   128   \n",
      "25       10.0.0.2  03/Dec/2024:10:12:59 +0000    GET  /dashboard    200  1024   \n",
      "26    192.168.1.1  03/Dec/2024:10:13:00 +0000    GET      /about    200   256   \n",
      "27  198.51.100.23  03/Dec/2024:10:13:01 +0000   POST   /register    200   128   \n",
      "28    203.0.113.5  03/Dec/2024:10:13:02 +0000   POST      /login    401   128   \n",
      "29  192.168.1.100  03/Dec/2024:10:13:03 +0000   POST      /login    401   128   \n",
      "30       10.0.0.2  03/Dec/2024:10:13:04 +0000    GET    /profile    200   768   \n",
      "31  198.51.100.23  03/Dec/2024:10:13:05 +0000    GET      /about    200   256   \n",
      "32    192.168.1.1  03/Dec/2024:10:13:06 +0000    GET       /home    200   512   \n",
      "33  198.51.100.23  03/Dec/2024:10:13:07 +0000   POST   /feedback    200   128   \n",
      "\n",
      "                message  \n",
      "0                  None  \n",
      "1   Invalid credentials  \n",
      "2                  None  \n",
      "3                  None  \n",
      "4                  None  \n",
      "5   Invalid credentials  \n",
      "6   Invalid credentials  \n",
      "7                  None  \n",
      "8                  None  \n",
      "9                  None  \n",
      "10  Invalid credentials  \n",
      "11  Invalid credentials  \n",
      "12  Invalid credentials  \n",
      "13                 None  \n",
      "14                 None  \n",
      "15                 None  \n",
      "16  Invalid credentials  \n",
      "17                 None  \n",
      "18                 None  \n",
      "19  Invalid credentials  \n",
      "20  Invalid credentials  \n",
      "21                 None  \n",
      "22                 None  \n",
      "23  Invalid credentials  \n",
      "24  Invalid credentials  \n",
      "25                 None  \n",
      "26                 None  \n",
      "27                 None  \n",
      "28  Invalid credentials  \n",
      "29  Invalid credentials  \n",
      "30                 None  \n",
      "31                 None  \n",
      "32                 None  \n",
      "33                 None  \n"
     ]
    }
   ],
   "source": [
    "# Read the log file parse it and convert into dataframe(df)\n",
    "log_file_path = 'sample_log.log'\n",
    "\n",
    "with open(log_file_path, 'r') as file:\n",
    "    logs = file.readlines()\n",
    "\n",
    "# Define a regex pattern to parse the log\n",
    "log_pattern = r'(?P<ip>[\\d.]+) - - \\[(?P<timestamp>[^\\]]+)\\] \"(?P<method>\\w+) (?P<endpoint>[^\\s]+) HTTP/\\d+\\.\\d+\" (?P<status>\\d+) (?P<size>\\d+)(?: \"(?P<message>.*)\")?'\n",
    "\n",
    "# Parse the logs into a list of dictionaries\n",
    "parsed_logs = [re.match(log_pattern, line).groupdict() for line in logs if re.match(log_pattern, line)]\n",
    "\n",
    "# Convert the list of dictionaries into a DataFrame\n",
    "df = pd.DataFrame(parsed_logs)\n",
    "\n",
    "# Display the DataFrame\n",
    "print(df)"
   ]
  },
  {
   "cell_type": "code",
   "execution_count": 6,
   "id": "bb14ac47-effd-4e3a-a4ef-ee0982e52220",
   "metadata": {},
   "outputs": [
    {
     "name": "stdout",
     "output_type": "stream",
     "text": [
      "      IP Address  Request Count\n",
      "0    203.0.113.5              8\n",
      "1  198.51.100.23              8\n",
      "2    192.168.1.1              7\n",
      "3       10.0.0.2              6\n",
      "4  192.168.1.100              5\n"
     ]
    }
   ],
   "source": [
    "# Count requests per IP address\n",
    "ip_requests = df[\"ip\"].value_counts().reset_index()\n",
    "\n",
    "# Rename columns for clarity\n",
    "ip_requests.columns = [\"IP Address\", \"Request Count\"]\n",
    "\n",
    "# Sort by Request Count in descending order\n",
    "ip_requests = ip_requests.sort_values(by=\"Request Count\", ascending=False)\n",
    "\n",
    "# Display the result\n",
    "print(ip_requests)"
   ]
  },
  {
   "cell_type": "code",
   "execution_count": 7,
   "id": "a61786a7-2064-4964-8563-dfca224dd510",
   "metadata": {},
   "outputs": [
    {
     "name": "stdout",
     "output_type": "stream",
     "text": [
      "Endpoint Access Counts:\n",
      "endpoint\n",
      "/login        13\n",
      "/home          5\n",
      "/about         5\n",
      "/dashboard     3\n",
      "/contact       2\n",
      "/register      2\n",
      "/profile       2\n",
      "/feedback      2\n",
      "Name: count, dtype: int64\n",
      "Most Frequently Accessed Endpoint:\n",
      "/login (Accessed 13 times)\n"
     ]
    }
   ],
   "source": [
    "# Count occurrences of each endpoint\n",
    "endpoint_counts = df[\"endpoint\"].value_counts()\n",
    "\n",
    "# Get the most frequently accessed endpoint\n",
    "most_frequent_endpoint = endpoint_counts.idxmax()\n",
    "access_count = endpoint_counts.max()\n",
    "\n",
    "# Display the result\n",
    "print(\"Endpoint Access Counts:\")\n",
    "print(endpoint_counts)\n",
    "print(f\"Most Frequently Accessed Endpoint:\\n{most_frequent_endpoint} (Accessed {access_count} times)\")"
   ]
  },
  {
   "cell_type": "code",
   "execution_count": 8,
   "id": "53b852f2-75e0-4b23-8b87-c75d964f2a64",
   "metadata": {},
   "outputs": [
    {
     "name": "stdout",
     "output_type": "stream",
     "text": [
      "No suspicious activity detected.\n"
     ]
    }
   ],
   "source": [
    "# Configurable threshold\n",
    "threshold = 10\n",
    "\n",
    "# Filter for failed login attempts (status 401 or failure message)\n",
    "failed_logins = df[(df[\"status\"] == 401) | (df[\"message\"] == \"Invalid credentials\")]\n",
    "\n",
    "# Count failed login attempts per IP\n",
    "failed_login_counts = failed_logins[\"ip\"].value_counts()\n",
    "\n",
    "# Filter IPs exceeding the threshold\n",
    "suspicious_ips = failed_login_counts[failed_login_counts > threshold]\n",
    "\n",
    "# Create a DataFrame for output\n",
    "suspicious_activity = suspicious_ips.reset_index()\n",
    "suspicious_activity.columns = [\"IP Address\", \"Failed Login Attempts\"]\n",
    "\n",
    "# Display the result\n",
    "if not suspicious_activity.empty:\n",
    "    print(\"Suspicious Activity :\")\n",
    "    print(suspicious_activity)\n",
    "else:\n",
    "    print(\"No suspicious activity detected.\")"
   ]
  },
  {
   "cell_type": "code",
   "execution_count": 9,
   "id": "95bbbf44-c239-4b53-a0f8-507607c6a954",
   "metadata": {},
   "outputs": [],
   "source": [
    "# code for Excel File\n",
    "with pd.ExcelWriter(\"log_analysis_results.xlsx\") as writer:\n",
    "    ip_requests.to_excel(writer, sheet_name=\"Requests per IP\", index=False)\n",
    "    endpoint_counts.to_excel(writer, sheet_name=\"Most Accessed Endpoints\", index=False)\n",
    "    suspicious_activity.to_excel(writer, sheet_name=\"Suspicious Activity\", index=False)"
   ]
  },
  {
   "cell_type": "code",
   "execution_count": 10,
   "id": "6927fe82-ce2e-4d45-a2ed-b61760807192",
   "metadata": {},
   "outputs": [
    {
     "name": "stdout",
     "output_type": "stream",
     "text": [
      "\n",
      "Requests per IP:\n",
      "      IP Address  Request Count\n",
      "0    203.0.113.5              8\n",
      "1  198.51.100.23              8\n",
      "2    192.168.1.1              7\n",
      "3       10.0.0.2              6\n",
      "4  192.168.1.100              5\n",
      "\n",
      "Most Accessed Endpoint:\n",
      "/login (Accessed 13 times)\n",
      "\n",
      "Suspicious Activity :\n",
      "No suspicious activity detected.\n"
     ]
    }
   ],
   "source": [
    "# code for terminal result\n",
    "print(\"\\nRequests per IP:\")\n",
    "print(ip_requests)\n",
    "\n",
    "print(\"\\nMost Accessed Endpoint:\")\n",
    "print(f\"{most_frequent_endpoint} (Accessed {access_count} times)\")\n",
    "\n",
    "print(\"\\nSuspicious Activity :\")\n",
    "if suspicious_ips.empty:\n",
    "    print(\"No suspicious activity detected.\")\n",
    "else:\n",
    "    print(suspicious_ips)"
   ]
  }
 ],
 "metadata": {
  "kernelspec": {
   "display_name": "Python 3 (ipykernel)",
   "language": "python",
   "name": "python3"
  },
  "language_info": {
   "codemirror_mode": {
    "name": "ipython",
    "version": 3
   },
   "file_extension": ".py",
   "mimetype": "text/x-python",
   "name": "python",
   "nbconvert_exporter": "python",
   "pygments_lexer": "ipython3",
   "version": "3.12.4"
  }
 },
 "nbformat": 4,
 "nbformat_minor": 5
}
